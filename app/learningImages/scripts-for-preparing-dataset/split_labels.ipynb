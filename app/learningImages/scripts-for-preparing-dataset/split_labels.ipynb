{
 "cells": [
  {
   "cell_type": "code",
   "execution_count": 1,
   "id": "raising-straight",
   "metadata": {},
   "outputs": [],
   "source": [
    "import numpy as np\n",
    "import pandas as pd\n",
    "np.random.seed(1)"
   ]
  },
  {
   "cell_type": "code",
   "execution_count": 2,
   "id": "gorgeous-costume",
   "metadata": {},
   "outputs": [],
   "source": [
    "full_labels = pd.read_csv('dandelions-and-clovers-relabeled/annotations_labels.csv')"
   ]
  },
  {
   "cell_type": "code",
   "execution_count": 3,
   "id": "approximate-portsmouth",
   "metadata": {},
   "outputs": [
    {
     "data": {
      "text/html": [
       "<div>\n",
       "<style scoped>\n",
       "    .dataframe tbody tr th:only-of-type {\n",
       "        vertical-align: middle;\n",
       "    }\n",
       "\n",
       "    .dataframe tbody tr th {\n",
       "        vertical-align: top;\n",
       "    }\n",
       "\n",
       "    .dataframe thead th {\n",
       "        text-align: right;\n",
       "    }\n",
       "</style>\n",
       "<table border=\"1\" class=\"dataframe\">\n",
       "  <thead>\n",
       "    <tr style=\"text-align: right;\">\n",
       "      <th></th>\n",
       "      <th>filename</th>\n",
       "      <th>width</th>\n",
       "      <th>height</th>\n",
       "      <th>class</th>\n",
       "      <th>xmin</th>\n",
       "      <th>ymin</th>\n",
       "      <th>xmax</th>\n",
       "      <th>ymax</th>\n",
       "    </tr>\n",
       "  </thead>\n",
       "  <tbody>\n",
       "    <tr>\n",
       "      <th>0</th>\n",
       "      <td>0.png</td>\n",
       "      <td>750</td>\n",
       "      <td>500</td>\n",
       "      <td>clover</td>\n",
       "      <td>70</td>\n",
       "      <td>220</td>\n",
       "      <td>249</td>\n",
       "      <td>347</td>\n",
       "    </tr>\n",
       "    <tr>\n",
       "      <th>1</th>\n",
       "      <td>0.png</td>\n",
       "      <td>750</td>\n",
       "      <td>500</td>\n",
       "      <td>clover</td>\n",
       "      <td>311</td>\n",
       "      <td>344</td>\n",
       "      <td>487</td>\n",
       "      <td>499</td>\n",
       "    </tr>\n",
       "    <tr>\n",
       "      <th>2</th>\n",
       "      <td>0.png</td>\n",
       "      <td>750</td>\n",
       "      <td>500</td>\n",
       "      <td>clover</td>\n",
       "      <td>538</td>\n",
       "      <td>358</td>\n",
       "      <td>669</td>\n",
       "      <td>500</td>\n",
       "    </tr>\n",
       "    <tr>\n",
       "      <th>3</th>\n",
       "      <td>0.png</td>\n",
       "      <td>750</td>\n",
       "      <td>500</td>\n",
       "      <td>clover blossom white</td>\n",
       "      <td>458</td>\n",
       "      <td>118</td>\n",
       "      <td>629</td>\n",
       "      <td>243</td>\n",
       "    </tr>\n",
       "    <tr>\n",
       "      <th>4</th>\n",
       "      <td>0.png</td>\n",
       "      <td>750</td>\n",
       "      <td>500</td>\n",
       "      <td>clover blossom white</td>\n",
       "      <td>264</td>\n",
       "      <td>28</td>\n",
       "      <td>427</td>\n",
       "      <td>182</td>\n",
       "    </tr>\n",
       "  </tbody>\n",
       "</table>\n",
       "</div>"
      ],
      "text/plain": [
       "  filename  width  height                 class  xmin  ymin  xmax  ymax\n",
       "0    0.png    750     500                clover    70   220   249   347\n",
       "1    0.png    750     500                clover   311   344   487   499\n",
       "2    0.png    750     500                clover   538   358   669   500\n",
       "3    0.png    750     500  clover blossom white   458   118   629   243\n",
       "4    0.png    750     500  clover blossom white   264    28   427   182"
      ]
     },
     "execution_count": 3,
     "metadata": {},
     "output_type": "execute_result"
    }
   ],
   "source": [
    "full_labels.head()"
   ]
  },
  {
   "cell_type": "code",
   "execution_count": 4,
   "id": "decimal-premiere",
   "metadata": {},
   "outputs": [],
   "source": [
    "grouped = full_labels.groupby('filename')"
   ]
  },
  {
   "cell_type": "code",
   "execution_count": 5,
   "id": "obvious-rouge",
   "metadata": {},
   "outputs": [
    {
     "data": {
      "text/plain": [
       "1     51\n",
       "2     18\n",
       "3     11\n",
       "4      9\n",
       "5      8\n",
       "6      7\n",
       "15     5\n",
       "10     5\n",
       "9      4\n",
       "8      4\n",
       "12     4\n",
       "14     4\n",
       "7      4\n",
       "16     4\n",
       "18     3\n",
       "13     2\n",
       "19     1\n",
       "25     1\n",
       "11     1\n",
       "17     1\n",
       "27     1\n",
       "dtype: int64"
      ]
     },
     "execution_count": 5,
     "metadata": {},
     "output_type": "execute_result"
    }
   ],
   "source": [
    "grouped.apply(lambda x: len(x)).value_counts()"
   ]
  },
  {
   "cell_type": "code",
   "execution_count": 6,
   "id": "honest-hungary",
   "metadata": {},
   "outputs": [],
   "source": [
    "gb = full_labels.groupby('filename')"
   ]
  },
  {
   "cell_type": "code",
   "execution_count": 7,
   "id": "classical-procurement",
   "metadata": {},
   "outputs": [],
   "source": [
    "grouped_list = [gb.get_group(x) for x in gb.groups]"
   ]
  },
  {
   "cell_type": "code",
   "execution_count": 8,
   "id": "front-commitment",
   "metadata": {},
   "outputs": [
    {
     "data": {
      "text/plain": [
       "148"
      ]
     },
     "execution_count": 8,
     "metadata": {},
     "output_type": "execute_result"
    }
   ],
   "source": [
    "len(grouped_list)"
   ]
  },
  {
   "cell_type": "code",
   "execution_count": 14,
   "id": "mediterranean-treatment",
   "metadata": {},
   "outputs": [],
   "source": [
    "train_index = np.random.choice(len(grouped_list), size=120, replace=False)\n",
    "test_index = np.setdiff1d(list(range(148)), train_index)"
   ]
  },
  {
   "cell_type": "code",
   "execution_count": 15,
   "id": "pointed-galaxy",
   "metadata": {},
   "outputs": [
    {
     "data": {
      "text/plain": [
       "(120, 28)"
      ]
     },
     "execution_count": 15,
     "metadata": {},
     "output_type": "execute_result"
    }
   ],
   "source": [
    "len(train_index), len(test_index)"
   ]
  },
  {
   "cell_type": "code",
   "execution_count": 16,
   "id": "vertical-gambling",
   "metadata": {},
   "outputs": [],
   "source": [
    "# take first 200 files\n",
    "train = pd.concat([grouped_list[i] for i in train_index])\n",
    "test = pd.concat([grouped_list[i] for i in test_index])"
   ]
  },
  {
   "cell_type": "code",
   "execution_count": 17,
   "id": "cross-myrtle",
   "metadata": {},
   "outputs": [
    {
     "data": {
      "text/plain": [
       "(641, 165)"
      ]
     },
     "execution_count": 17,
     "metadata": {},
     "output_type": "execute_result"
    }
   ],
   "source": [
    "len(train), len(test)"
   ]
  },
  {
   "cell_type": "code",
   "execution_count": 19,
   "id": "center-directory",
   "metadata": {},
   "outputs": [],
   "source": [
    "train.to_csv('dandelions-and-clovers-relabeled/train_labels.csv', index=None)\n",
    "test.to_csv('dandelions-and-clovers-relabeled/test_labels.csv', index=None)"
   ]
  },
  {
   "cell_type": "code",
   "execution_count": null,
   "id": "pediatric-honolulu",
   "metadata": {},
   "outputs": [],
   "source": []
  }
 ],
 "metadata": {
  "kernelspec": {
   "display_name": "Python 3",
   "language": "python",
   "name": "python3"
  },
  "language_info": {
   "codemirror_mode": {
    "name": "ipython",
    "version": 3
   },
   "file_extension": ".py",
   "mimetype": "text/x-python",
   "name": "python",
   "nbconvert_exporter": "python",
   "pygments_lexer": "ipython3",
   "version": "3.7.9"
  }
 },
 "nbformat": 4,
 "nbformat_minor": 5
}
